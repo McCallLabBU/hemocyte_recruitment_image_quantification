{
 "cells": [
  {
   "cell_type": "markdown",
   "metadata": {},
   "source": [
    "## Preprocess raw images "
   ]
  },
  {
   "cell_type": "code",
   "execution_count": 1,
   "metadata": {},
   "outputs": [],
   "source": [
    "import pandas as pd\n",
    "import numpy as np\n",
    "import matplotlib.pyplot as plt\n",
    "import seaborn as sns\n",
    "from os import path\n",
    "from pathlib import Path\n",
    "import glob\n",
    "from scipy import stats \n",
    "import skimage as ski\n",
    "sns.set_style('white')\n",
    "sns.set(font_scale=1.5)\n",
    "\n",
    "color_scheme = {\"Fed\": \"dodgerblue\",\"Starved\": \"darkorange\"}\n",
    "\n",
    "import warnings\n",
    "warnings.filterwarnings('ignore')"
   ]
  },
  {
   "cell_type": "code",
   "execution_count": 3,
   "metadata": {},
   "outputs": [],
   "source": [
    "inputs = \"/Users/sbandya/Desktop/hemocyte_recruitment_image_quantification/data/preprocessed/batch1/raw/\"\n",
    "outputs = \"/Users/sbandya/Desktop/hemocyte_recruitment_image_quantification/data/preprocessed/batch1/scikit_thresholded/\" \n",
    "\n",
    "images = glob.glob(inputs+\"*_FITC.tif\")\n",
    "sections = [i.split(\"/\")[-1].split(\"_FITC.tif\")[0] for i in images]\n",
    "\n",
    "for section in sections:\n",
    "    fitc = ski.io.imread(inputs+section+\"_FITC.tif\")\n",
    "    dapi = ski.io.imread(inputs+section+\"_DAPI.tif\") \n",
    "\n",
    "    fitc_green = ski.img_as_float(fitc[:,:,1])\n",
    "    dapi_blue = ski.img_as_float(dapi[:,:,2])  \n",
    "\n",
    "\n",
    "    threshold = ski.filters.threshold_yen(image=fitc_green, nbins=10)\n",
    "    binary = fitc_green < threshold\n",
    "\n",
    "    fitc_green[binary] = 0\n",
    "\n",
    "    ski.io.imsave(outputs+section+\"_DAPI.tif\",ski.img_as_ubyte(dapi_blue))\n",
    "    ski.io.imsave(outputs+section+\"_FITC.tif\",ski.img_as_ubyte(fitc_green))\n"
   ]
  },
  {
   "cell_type": "code",
   "execution_count": 2,
   "metadata": {},
   "outputs": [
    {
     "data": {
      "text/plain": [
       "'0.20.0'"
      ]
     },
     "execution_count": 2,
     "metadata": {},
     "output_type": "execute_result"
    }
   ],
   "source": [
    "ski.__version__"
   ]
  }
 ],
 "metadata": {
  "kernelspec": {
   "display_name": "hemocyte_analysis",
   "language": "python",
   "name": "hemocyte_analysis"
  },
  "language_info": {
   "codemirror_mode": {
    "name": "ipython",
    "version": 3
   },
   "file_extension": ".py",
   "mimetype": "text/x-python",
   "name": "python",
   "nbconvert_exporter": "python",
   "pygments_lexer": "ipython3",
   "version": "3.11.5"
  }
 },
 "nbformat": 4,
 "nbformat_minor": 2
}
